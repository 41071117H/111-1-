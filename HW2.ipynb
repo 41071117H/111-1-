{
 "cells": [
  {
   "cell_type": "markdown",
   "id": "7b2bc0c2",
   "metadata": {},
   "source": [
    "# Step 1\n",
    "### 匯入json檔"
   ]
  },
  {
   "cell_type": "code",
   "execution_count": null,
   "id": "3f88f045",
   "metadata": {},
   "outputs": [],
   "source": [
    "import json"
   ]
  },
  {
   "cell_type": "code",
   "execution_count": 16,
   "id": "3f69022b",
   "metadata": {},
   "outputs": [
    {
     "data": {
      "text/plain": [
       "dict"
      ]
     },
     "execution_count": 16,
     "metadata": {},
     "output_type": "execute_result"
    }
   ],
   "source": [
    "test = open('20~21.json', encoding=\"utf8\")\n",
    "data = json.load(test)\n",
    "type(data)"
   ]
  },
  {
   "cell_type": "code",
   "execution_count": 17,
   "id": "d8891f68",
   "metadata": {
    "scrolled": true
   },
   "outputs": [
    {
     "data": {
      "text/plain": [
       "dict_items([('Teams', [{'team': '爵士', 'rank': 1, 'win': 52, 'lose': 20, 'win percent': 0.722, 'HW': 31, 'HL': 5, 'RW': 21, 'RL': 15}, {'team': '太陽', 'rank': 2, 'win': 51, 'lose': 21, 'win percent': 0.708, 'HW': 27, 'HL': 9, 'RW': 24, 'RL': 12}, {'team': '金塊', 'rank': 3, 'win': 47, 'lose': 25, 'win percent': 0.653, 'HW': 25, 'HL': 11, 'RW': 22, 'RL': 14}, {'team': '快艇', 'rank': 4, 'win': 47, 'lose': 25, 'win percent': 0.653, 'HW': 26, 'HL': 10, 'RW': 21, 'RL': 15}, {'team': '獨行俠', 'rank': 5, 'win': 42, 'lose': 30, 'win percent': 0.583, 'HW': 21, 'HL': 15, 'RW': 21, 'RL': 15}, {'team': '拓荒者', 'rank': 6, 'win': 42, 'lose': 30, 'win percent': 0.583, 'HW': 20, 'HL': 16, 'RW': 22, 'RL': 14}, {'team': '湖人', 'rank': 7, 'win': 42, 'lose': 30, 'win percent': 0.583, 'HW': 21, 'HL': 15, 'RW': 21, 'RL': 15}, {'team': '勇士', 'rank': 8, 'win': 39, 'lose': 33, 'win percent': 0.541, 'HW': 25, 'HL': 11, 'RW': 14, 'RL': 22}, {'team': '灰熊', 'rank': 9, 'win': 38, 'lose': 34, 'win percent': 0.527, 'HW': 18, 'HL': 18, 'RW': 20, 'RL': 16}, {'team': '馬刺', 'rank': 10, 'win': 33, 'lose': 39, 'win percent': 0.458, 'HW': 14, 'HL': 22, 'RW': 19, 'RL': 17}])])"
      ]
     },
     "execution_count": 17,
     "metadata": {},
     "output_type": "execute_result"
    }
   ],
   "source": [
    "data.items()"
   ]
  },
  {
   "cell_type": "code",
   "execution_count": 28,
   "id": "03203f97",
   "metadata": {
    "scrolled": true
   },
   "outputs": [
    {
     "data": {
      "text/plain": [
       "[{'team': '爵士',\n",
       "  'rank': 1,\n",
       "  'win': 52,\n",
       "  'lose': 20,\n",
       "  'win percent': 0.722,\n",
       "  'HW': 31,\n",
       "  'HL': 5,\n",
       "  'RW': 21,\n",
       "  'RL': 15},\n",
       " {'team': '太陽',\n",
       "  'rank': 2,\n",
       "  'win': 51,\n",
       "  'lose': 21,\n",
       "  'win percent': 0.708,\n",
       "  'HW': 27,\n",
       "  'HL': 9,\n",
       "  'RW': 24,\n",
       "  'RL': 12},\n",
       " {'team': '金塊',\n",
       "  'rank': 3,\n",
       "  'win': 47,\n",
       "  'lose': 25,\n",
       "  'win percent': 0.653,\n",
       "  'HW': 25,\n",
       "  'HL': 11,\n",
       "  'RW': 22,\n",
       "  'RL': 14},\n",
       " {'team': '快艇',\n",
       "  'rank': 4,\n",
       "  'win': 47,\n",
       "  'lose': 25,\n",
       "  'win percent': 0.653,\n",
       "  'HW': 26,\n",
       "  'HL': 10,\n",
       "  'RW': 21,\n",
       "  'RL': 15},\n",
       " {'team': '獨行俠',\n",
       "  'rank': 5,\n",
       "  'win': 42,\n",
       "  'lose': 30,\n",
       "  'win percent': 0.583,\n",
       "  'HW': 21,\n",
       "  'HL': 15,\n",
       "  'RW': 21,\n",
       "  'RL': 15},\n",
       " {'team': '拓荒者',\n",
       "  'rank': 6,\n",
       "  'win': 42,\n",
       "  'lose': 30,\n",
       "  'win percent': 0.583,\n",
       "  'HW': 20,\n",
       "  'HL': 16,\n",
       "  'RW': 22,\n",
       "  'RL': 14},\n",
       " {'team': '湖人',\n",
       "  'rank': 7,\n",
       "  'win': 42,\n",
       "  'lose': 30,\n",
       "  'win percent': 0.583,\n",
       "  'HW': 21,\n",
       "  'HL': 15,\n",
       "  'RW': 21,\n",
       "  'RL': 15},\n",
       " {'team': '勇士',\n",
       "  'rank': 8,\n",
       "  'win': 39,\n",
       "  'lose': 33,\n",
       "  'win percent': 0.541,\n",
       "  'HW': 25,\n",
       "  'HL': 11,\n",
       "  'RW': 14,\n",
       "  'RL': 22},\n",
       " {'team': '灰熊',\n",
       "  'rank': 9,\n",
       "  'win': 38,\n",
       "  'lose': 34,\n",
       "  'win percent': 0.527,\n",
       "  'HW': 18,\n",
       "  'HL': 18,\n",
       "  'RW': 20,\n",
       "  'RL': 16},\n",
       " {'team': '馬刺',\n",
       "  'rank': 10,\n",
       "  'win': 33,\n",
       "  'lose': 39,\n",
       "  'win percent': 0.458,\n",
       "  'HW': 14,\n",
       "  'HL': 22,\n",
       "  'RW': 19,\n",
       "  'RL': 17}]"
      ]
     },
     "execution_count": 28,
     "metadata": {},
     "output_type": "execute_result"
    }
   ],
   "source": [
    "team = data.get(\"Teams\")\n",
    "team"
   ]
  },
  {
   "cell_type": "markdown",
   "id": "2d993fce",
   "metadata": {},
   "source": [
    "# Step 2 \n",
    "### 抓取球隊名稱"
   ]
  },
  {
   "cell_type": "code",
   "execution_count": 32,
   "id": "0e46b72b",
   "metadata": {},
   "outputs": [
    {
     "name": "stdout",
     "output_type": "stream",
     "text": [
      "爵士\n",
      "太陽\n",
      "金塊\n",
      "快艇\n",
      "獨行俠\n",
      "拓荒者\n",
      "湖人\n",
      "勇士\n",
      "灰熊\n",
      "馬刺\n"
     ]
    }
   ],
   "source": [
    "for i in team :\n",
    "    print(i.get('team'))"
   ]
  },
  {
   "cell_type": "markdown",
   "id": "5a7d21a5",
   "metadata": {},
   "source": [
    "# Step 3\n",
    "### 排名客場勝"
   ]
  },
  {
   "cell_type": "code",
   "execution_count": 36,
   "id": "d814c8d5",
   "metadata": {},
   "outputs": [
    {
     "name": "stdout",
     "output_type": "stream",
     "text": [
      "爵士\n",
      "太陽\n",
      "金塊\n",
      "快艇\n",
      "獨行俠\n",
      "拓荒者\n",
      "湖人\n"
     ]
    }
   ],
   "source": [
    "for i in team:   \n",
    "    if (i.get(\"RW\")) >= 21:\n",
    "        print(i.get('team'))"
   ]
  },
  {
   "cell_type": "markdown",
   "id": "ad782f11",
   "metadata": {},
   "source": [
    "# Step 4\n",
    "### 輸入球隊名稱，列出球隊的戰績\n"
   ]
  },
  {
   "cell_type": "code",
   "execution_count": 47,
   "id": "32613e17",
   "metadata": {},
   "outputs": [
    {
     "name": "stdout",
     "output_type": "stream",
     "text": [
      "Enter the team's name: 公牛\n",
      "Enter the real team!\n",
      "Enter the real team!\n",
      "Enter the real team!\n",
      "Enter the real team!\n",
      "Enter the real team!\n",
      "Enter the real team!\n",
      "Enter the real team!\n",
      "Enter the real team!\n",
      "Enter the real team!\n",
      "Enter the real team!\n"
     ]
    }
   ],
   "source": [
    "name = input (\"Enter the team's name: \")\n",
    "\n",
    "for i in team:\n",
    "\n",
    "    if name == i.get(\"team\"):\n",
    "        print(\"主場勝：\", i.get(\"HW\"))\n",
    "        print(\"主場負：\", i.get(\"HL\"))\n",
    "        print(\"勝率：\", i.get(\"win percent\"))\n",
    "        print(\"客場勝：\", i.get(\"RW\"))\n",
    "        print(\"客場負：\", i.get(\"RL\"))\n",
    "        \n",
    "    else :\n",
    "        print(\"Enter the real team!\")"
   ]
  },
  {
   "cell_type": "code",
   "execution_count": null,
   "id": "2cb4b38f",
   "metadata": {},
   "outputs": [],
   "source": []
  }
 ],
 "metadata": {
  "kernelspec": {
   "display_name": "Python 3 (ipykernel)",
   "language": "python",
   "name": "python3"
  },
  "language_info": {
   "codemirror_mode": {
    "name": "ipython",
    "version": 3
   },
   "file_extension": ".py",
   "mimetype": "text/x-python",
   "name": "python",
   "nbconvert_exporter": "python",
   "pygments_lexer": "ipython3",
   "version": "3.9.12"
  }
 },
 "nbformat": 4,
 "nbformat_minor": 5
}
