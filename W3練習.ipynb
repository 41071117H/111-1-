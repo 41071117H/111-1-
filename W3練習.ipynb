{
 "cells": [
  {
   "cell_type": "code",
   "execution_count": 3,
   "id": "a562834a",
   "metadata": {},
   "outputs": [
    {
     "name": "stdout",
     "output_type": "stream",
     "text": [
      "['比較新舊法結果', '仍應適用行為時法。原判決雖未及為新舊法比較適用', '於判決結果無影響', '附此敘明。']\n",
      "['比較新舊法結果']\n",
      "['半自動手槍製造支改造手槍']\n"
     ]
    }
   ],
   "source": [
    "#練習 1\n",
    "s=\"上訴人係持有具殺傷力之仿GLOCK 廠半自動手槍製造之改造手槍，比較新舊法結果，修正前之規定自較有利於上訴人，仍應適用行為時法。原判決雖未及為新舊法比較適用，於判決結果無影響，附此敘明。\"\n",
    "\n",
    "l=s.split(\"，\")\n",
    "del l[0]\n",
    "del l[1]\n",
    "print(l)\n",
    "\n",
    "ll=l[0].split(\"，\")\n",
    "print(ll)\n",
    "\n",
    "del ll[0]\n",
    "ll.insert(0,\"半自動手槍製造支改造手槍\")\n",
    "print(ll)"
   ]
  },
  {
   "cell_type": "code",
   "execution_count": 6,
   "id": "da8a384c",
   "metadata": {},
   "outputs": [
    {
     "name": "stdout",
     "output_type": "stream",
     "text": [
      "('最高法院民事判例', '最高法院刑事判例', '行政法院判例')\n",
      "[('最高法院民事判例', 4), ('最高法院刑事判例', 2), ('行政法院判例', 9)]\n"
     ]
    }
   ],
   "source": [
    "#練習 2\n",
    "f1=\"最高法院民事判例\",\"最高法院刑事判例\",\"行政法院判例\",\"大法官解釋\"\n",
    "f2=4,2,9,6\n",
    "\n",
    "f=f1[:3]\n",
    "print(f)\n",
    "\n",
    "z=zip(f,f2)\n",
    "print(list(z))"
   ]
  },
  {
   "cell_type": "code",
   "execution_count": 8,
   "id": "8f152733",
   "metadata": {},
   "outputs": [
    {
     "name": "stdout",
     "output_type": "stream",
     "text": [
      "{'國小', '國中', '幼稚園', '大學', '高中'}\n",
      "{'幼稚園', '大學'}\n",
      "{'國小', '高中'}\n",
      "{'國中'}\n",
      "False\n",
      "True\n"
     ]
    }
   ],
   "source": [
    "#練習 3\n",
    "s1={\"國小\",\"國中\",\"高中\"}\n",
    "s2={\"幼稚園\",\"國中\",\"大學\"}\n",
    "\n",
    "print(s1|s2)\n",
    "\n",
    "print(s2-s1)\n",
    "print(s1-s2)\n",
    "print(s1&s2)\n",
    "print(\"大學\" in s1)\n",
    "print(\"幼稚園\" in s2)"
   ]
  },
  {
   "cell_type": "code",
   "execution_count": 13,
   "id": "d8ead8e1",
   "metadata": {},
   "outputs": [
    {
     "name": "stdout",
     "output_type": "stream",
     "text": [
      "['刑事訴訟法', '中華民國刑法']\n",
      "[['第159條之4', '第159條之5', '第159條之1', '第267條', '第299條第1項', '第302條第1款'], ['第11條', '第38條第1項第1款', '第42條第3項', '第55條', '第56條', '第57條', '第59條']]\n",
      "第267條\n",
      "{'刑事訴訟法': ['第159條之4', '第159條之5', '第159條之1', '第267條', '第299條第1項', '第302條第1款'], '中華民國刑法': ['第11條', '第38條第1項第1款', '第42條第3項', '第55條', '第56條', '第57條', '第59條', '第62條']}\n"
     ]
    }
   ],
   "source": [
    "#練習 4\n",
    "d={\"刑事訴訟法\":[\"第159條之4\",\"第159條之5\",\"第159條之1\",\"第267條\",\"第299條第1項\",\"第302條第1款\"],\n",
    "   \"中華民國刑法\":[\"第11條\",\"第38條第1項第1款\",\"第42條第3項\",\"第55條\",\"第56條\",\"第57條\",\"第59條\"]}\n",
    "\n",
    "\n",
    "s1=list(d.keys())\n",
    "print(s1)\n",
    "s2=list(d.values())\n",
    "print(s2)\n",
    "\n",
    "\n",
    "print(d[\"刑事訴訟法\"][3])\n",
    "\n",
    "d[\"中華民國刑法\"].append(\"第62條\")\n",
    "print(d)"
   ]
  },
  {
   "cell_type": "code",
   "execution_count": null,
   "id": "1fc24df1",
   "metadata": {},
   "outputs": [],
   "source": []
  }
 ],
 "metadata": {
  "kernelspec": {
   "display_name": "Python 3 (ipykernel)",
   "language": "python",
   "name": "python3"
  },
  "language_info": {
   "codemirror_mode": {
    "name": "ipython",
    "version": 3
   },
   "file_extension": ".py",
   "mimetype": "text/x-python",
   "name": "python",
   "nbconvert_exporter": "python",
   "pygments_lexer": "ipython3",
   "version": "3.9.12"
  }
 },
 "nbformat": 4,
 "nbformat_minor": 5
}
