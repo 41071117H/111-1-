{
 "cells": [
  {
   "cell_type": "code",
   "execution_count": null,
   "id": "55f58515",
   "metadata": {},
   "outputs": [],
   "source": [
    "str1 = \"犯罪事實：甲○○於民國九十五年一月三日上午六時四十分許，駕駛車號ＣＹ－三七五二號自用小貨車，沿臺北縣泰山鄉○○路往桃園方向行駛，行經泰山鄉○○路與貴子路交岔路口左轉時，本應注意駕駛汽車行駛至交岔路口，其行進應遵守燈光號誌之指示，\""
   ]
  },
  {
   "cell_type": "code",
   "execution_count": null,
   "id": "a28076d6",
   "metadata": {},
   "outputs": [],
   "source": []
  }
 ],
 "metadata": {
  "kernelspec": {
   "display_name": "Python 3 (ipykernel)",
   "language": "python",
   "name": "python3"
  },
  "language_info": {
   "codemirror_mode": {
    "name": "ipython",
    "version": 3
   },
   "file_extension": ".py",
   "mimetype": "text/x-python",
   "name": "python",
   "nbconvert_exporter": "python",
   "pygments_lexer": "ipython3",
   "version": "3.9.12"
  }
 },
 "nbformat": 4,
 "nbformat_minor": 5
}
