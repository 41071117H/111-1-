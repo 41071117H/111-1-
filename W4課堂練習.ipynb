{
 "cells": [
  {
   "cell_type": "code",
   "execution_count": 5,
   "id": "f5898fbd",
   "metadata": {},
   "outputs": [
    {
     "name": "stdout",
     "output_type": "stream",
     "text": [
      "['小明', '小王']\n",
      "[['台北人', '173公分', '70公斤', '血型B', '興趣：打羽球'], ['高雄人', '167公分', '62公斤', '血型O', '興趣：看電影']]\n",
      "興趣：打羽球\n"
     ]
    }
   ],
   "source": [
    "d = {\"小明\":[\"台北人\", \"173公分\", \"70公斤\", \"血型B\",\"興趣：打羽球\"],\n",
    "     \"小王\":[\"高雄人\",\"167公分\",\"62公斤\",\"血型O\",\"興趣：看電影\"]}\n",
    "\n",
    "s1 = list(d.keys())\n",
    "print(s1)\n",
    "\n",
    "s2 = list(d.values())\n",
    "print(s2)\n",
    "\n",
    "print(d[\"小明\"][4])"
   ]
  },
  {
   "cell_type": "code",
   "execution_count": null,
   "id": "977450da",
   "metadata": {},
   "outputs": [],
   "source": []
  }
 ],
 "metadata": {
  "kernelspec": {
   "display_name": "Python 3 (ipykernel)",
   "language": "python",
   "name": "python3"
  },
  "language_info": {
   "codemirror_mode": {
    "name": "ipython",
    "version": 3
   },
   "file_extension": ".py",
   "mimetype": "text/x-python",
   "name": "python",
   "nbconvert_exporter": "python",
   "pygments_lexer": "ipython3",
   "version": "3.9.12"
  }
 },
 "nbformat": 4,
 "nbformat_minor": 5
}
